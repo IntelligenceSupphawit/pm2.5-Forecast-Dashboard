{
 "cells": [
  {
   "cell_type": "code",
   "execution_count": null,
   "metadata": {},
   "outputs": [],
   "source": [
    "import pandas as pd\n",
    "\n",
    "# โหลดไฟล์ CSV\n",
    "df = pd.read_csv(\"Data_csv/combined_data.csv\")  # เปลี่ยนเป็นไฟล์ของคุณ\n",
    "\n",
    "# ดูข้อมูล 5 แถวแรก\n",
    "print(df.head())\n",
    "\n",
    "# ตรวจสอบข้อมูลเบื้องต้น\n",
    "print(df.info())  # ดูประเภทของข้อมูล\n",
    "print(df.describe())  # ดูค่าสถิติของข้อมูลตัวเลข\n"
   ]
  }
 ],
 "metadata": {
  "kernelspec": {
   "display_name": "venv",
   "language": "python",
   "name": "python3"
  },
  "language_info": {
   "codemirror_mode": {
    "name": "ipython",
    "version": 3
   },
   "file_extension": ".py",
   "mimetype": "text/x-python",
   "name": "python",
   "nbconvert_exporter": "python",
   "pygments_lexer": "ipython3",
   "version": "3.10.11"
  }
 },
 "nbformat": 4,
 "nbformat_minor": 2
}
