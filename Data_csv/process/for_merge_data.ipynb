{
 "cells": [
  {
   "cell_type": "code",
   "execution_count": null,
   "metadata": {},
   "outputs": [],
   "source": [
    "import pandas as pd\n",
    "import os \n",
    "\n",
    "# อ่านไฟล์ CSV ทั้งสองไฟล์\n",
    "df1 = pd.read_csv(r'C:\\Users\\snpdp\\pm2.5-Forecast-Dashboard\\Data_csv\\data_type\\file_1d\\export-aerosure_wifi_01-1d.csv')\n",
    "df2 = pd.read_csv(r'C:\\Users\\snpdp\\pm2.5-Forecast-Dashboard\\Data_csv\\data_type\\file_1d\\export-aerosure_wifi_02-1d.csv')\n",
    "\n",
    "\n",
    "# รวมข้อมูล (เรียงต่อแถวกัน) \n",
    "merged_df = pd.concat([df1, df2], ignore_index=True)\n",
    "\n",
    "# เรียงข้อมูลตามคอลัมน์ 'Timestamp'\n",
    "merged_df.sort_values(by='timestamp', inplace=True)\n",
    "\n",
    "# บันทึกเป็นไฟล์ CSV ใหม่ \n",
    "merged_df.to_csv('export-aerosure_wifi_m-1d.csv', index=False)\n"
   ]
  },
  {
   "cell_type": "code",
   "execution_count": 1,
   "metadata": {},
   "outputs": [],
   "source": [
    "import pandas as pd\n",
    "import os \n",
    "\n",
    "# อ่านไฟล์ CSV ทั้งสองไฟล์\n",
    "df1 = pd.read_csv(r'C:\\Users\\snpdp\\pm2.5-Forecast-Dashboard\\Data_csv\\Data_type\\file_1d\\export-AeroSURE-014-1d.csv')\n",
    "df2 = pd.read_csv(r'C:\\Users\\snpdp\\pm2.5-Forecast-Dashboard\\Data_csv\\Data_type\\file_1d\\export-AeroSURE-017-1d.csv')\n",
    "df3 = pd.read_csv(r'C:\\Users\\snpdp\\pm2.5-Forecast-Dashboard\\Data_csv\\Data_type\\file_1d\\export-AeroSURE-018-1d.csv')\n",
    "df4 = pd.read_csv(r'C:\\Users\\snpdp\\pm2.5-Forecast-Dashboard\\Data_csv\\Data_type\\file_1d\\export-AeroSURE-019-1d.csv')\n",
    "df5 = pd.read_csv(r'C:\\Users\\snpdp\\pm2.5-Forecast-Dashboard\\Data_csv\\Data_type\\file_1d\\export-AeroSURE-022-1d.csv')\n",
    "df6 = pd.read_csv(r'C:\\Users\\snpdp\\pm2.5-Forecast-Dashboard\\Data_csv\\Data_type\\file_1d\\export-AeroSURE-024-1d.csv')\n",
    "df7 = pd.read_csv(r'C:\\Users\\snpdp\\pm2.5-Forecast-Dashboard\\Data_csv\\Data_type\\file_1d\\export-AeroSURE-026-1d.csv')\n",
    "df8 = pd.read_csv(r'C:\\Users\\snpdp\\pm2.5-Forecast-Dashboard\\Data_csv\\Data_type\\file_1d\\export-AeroSURE-028-1d.csv')\n",
    "df9 = pd.read_csv(r'C:\\Users\\snpdp\\pm2.5-Forecast-Dashboard\\Data_csv\\Data_type\\file_1d\\export-AeroSURE-030-1d.csv')\n",
    "\n",
    "# รวมข้อมูล (เรียงต่อแถวกัน) \n",
    "merged_df = pd.concat([df1, df2, df3, df4, df5, df6, df7, df8, df9], ignore_index=True)\n",
    "\n",
    "# เรียงข้อมูลตามคอลัมน์ 'Timestamp'\n",
    "merged_df.sort_values(by='timestamp', inplace=True)\n",
    "\n",
    "# บันทึกเป็นไฟล์ CSV ใหม่ \n",
    "merged_df.to_csv('export-AeroSURE-m-1d.csv', index=False)"
   ]
  },
  {
   "cell_type": "code",
   "execution_count": 2,
   "metadata": {},
   "outputs": [],
   "source": [
    "import pandas as pd\n",
    "import os \n",
    "\n",
    "# อ่านไฟล์ CSV ทั้งสองไฟล์\n",
    "df1 = pd.read_csv(r'C:\\Users\\snpdp\\pm2.5-Forecast-Dashboard\\Data_csv\\Data_type\\file_1d\\export-jsps001-1d.csv')\n",
    "df2 = pd.read_csv(r'C:\\Users\\snpdp\\pm2.5-Forecast-Dashboard\\Data_csv\\Data_type\\file_1d\\export-jsps012-1d.csv')\n",
    "df3 = pd.read_csv(r'C:\\Users\\snpdp\\pm2.5-Forecast-Dashboard\\Data_csv\\Data_type\\file_1d\\export-jsps013-1d.csv')\n",
    "df4 = pd.read_csv(r'C:\\Users\\snpdp\\pm2.5-Forecast-Dashboard\\Data_csv\\Data_type\\file_1d\\export-jsps014-1d.csv')\n",
    "df5 = pd.read_csv(r'C:\\Users\\snpdp\\pm2.5-Forecast-Dashboard\\Data_csv\\Data_type\\file_1d\\export-jsps016-1d.csv')\n",
    "df6 = pd.read_csv(r'C:\\Users\\snpdp\\pm2.5-Forecast-Dashboard\\Data_csv\\Data_type\\file_1d\\export-jsps017-1d.csv')\n",
    "df7 = pd.read_csv(r'C:\\Users\\snpdp\\pm2.5-Forecast-Dashboard\\Data_csv\\Data_type\\file_1d\\export-jsps018-1d.csv')\n",
    "\n",
    "\n",
    "\n",
    "# รวมข้อมูล (เรียงต่อแถวกัน) \n",
    "merged_df = pd.concat([df1, df2, df3, df4, df5, df6, df7], ignore_index=True)\n",
    "\n",
    "# เรียงข้อมูลตามคอลัมน์ 'Timestamp'\n",
    "merged_df.sort_values(by='timestamp', inplace=True)\n",
    "\n",
    "# บันทึกเป็นไฟล์ CSV ใหม่ \n",
    "merged_df.to_csv('export-jsps-m-1d.csv', index=False)\n"
   ]
  },
  {
   "cell_type": "code",
   "execution_count": 3,
   "metadata": {},
   "outputs": [],
   "source": [
    "import pandas as pd\n",
    "import os \n",
    "\n",
    "# อ่านไฟล์ CSV ทั้งสองไฟล์\n",
    "df1 = pd.read_csv(r'C:\\Users\\snpdp\\pm2.5-Forecast-Dashboard\\Data_csv\\Data_type\\file_1d\\unknow1_1d.csv')\n",
    "df2 = pd.read_csv(r'C:\\Users\\snpdp\\pm2.5-Forecast-Dashboard\\Data_csv\\Data_type\\file_1d\\unknow2_1d.csv')\n",
    "df3 = pd.read_csv(r'C:\\Users\\snpdp\\pm2.5-Forecast-Dashboard\\Data_csv\\Data_type\\file_1d\\unknow3_1d.csv')\n",
    "df4 = pd.read_csv(r'C:\\Users\\snpdp\\pm2.5-Forecast-Dashboard\\Data_csv\\Data_type\\file_1d\\unknow4_1d.csv')\n",
    "df5 = pd.read_csv(r'C:\\Users\\snpdp\\pm2.5-Forecast-Dashboard\\Data_csv\\Data_type\\file_1d\\unknow5_1d.csv')\n",
    "df6 = pd.read_csv(r'C:\\Users\\snpdp\\pm2.5-Forecast-Dashboard\\Data_csv\\Data_type\\file_1d\\unknow6_1d.csv')\n",
    "df7 = pd.read_csv(r'C:\\Users\\snpdp\\pm2.5-Forecast-Dashboard\\Data_csv\\Data_type\\file_1d\\unknow7_1d.csv')\n",
    "df8 = pd.read_csv(r'C:\\Users\\snpdp\\pm2.5-Forecast-Dashboard\\Data_csv\\Data_type\\file_1d\\unknow8_1d.csv')\n",
    "df9 = pd.read_csv(r'C:\\Users\\snpdp\\pm2.5-Forecast-Dashboard\\Data_csv\\Data_type\\file_1d\\unknow9_1d.csv')\n",
    "df10 = pd.read_csv(r'C:\\Users\\snpdp\\pm2.5-Forecast-Dashboard\\Data_csv\\Data_type\\file_1d\\unknow10_1d.csv')\n",
    "df11 = pd.read_csv(r'C:\\Users\\snpdp\\pm2.5-Forecast-Dashboard\\Data_csv\\Data_type\\file_1d\\unknow11_1d.csv')\n",
    "df12 = pd.read_csv(r'C:\\Users\\snpdp\\pm2.5-Forecast-Dashboard\\Data_csv\\Data_type\\file_1d\\unknow12_1d.csv')\n",
    "df13 = pd.read_csv(r'C:\\Users\\snpdp\\pm2.5-Forecast-Dashboard\\Data_csv\\Data_type\\file_1d\\unknow13_1d.csv')\n",
    "df14 = pd.read_csv(r'C:\\Users\\snpdp\\pm2.5-Forecast-Dashboard\\Data_csv\\Data_type\\file_1d\\unknow14_1d.csv')\n",
    "df15 = pd.read_csv(r'C:\\Users\\snpdp\\pm2.5-Forecast-Dashboard\\Data_csv\\Data_type\\file_1d\\unknow15_1d.csv')\n",
    "df16 = pd.read_csv(r'C:\\Users\\snpdp\\pm2.5-Forecast-Dashboard\\Data_csv\\Data_type\\file_1d\\unknow16_1d.csv')\n",
    "df17 = pd.read_csv(r'C:\\Users\\snpdp\\pm2.5-Forecast-Dashboard\\Data_csv\\Data_type\\file_1d\\unknow17_1d.csv')\n",
    "df18 = pd.read_csv(r'C:\\Users\\snpdp\\pm2.5-Forecast-Dashboard\\Data_csv\\Data_type\\file_1d\\unknow18_1d.csv')\n",
    "\n",
    "\n",
    "# รวมข้อมูล (เรียงต่อแถวกัน) \n",
    "merged_df = pd.concat([df1, df2, df3, df4, df5, df6, df7, df8, df9, df10, df11, df12, df13, df14, df15, df16, df17, df18], ignore_index=True)\n",
    "\n",
    "# เรียงข้อมูลตามคอลัมน์ 'Timestamp'\n",
    "merged_df.sort_values(by='timestamp', inplace=True)\n",
    "\n",
    "# บันทึกเป็นไฟล์ CSV ใหม่ \n",
    "merged_df.to_csv('unknow-m_1d.csv', index=False)\n"
   ]
  }
 ],
 "metadata": {
  "kernelspec": {
   "display_name": "venv",
   "language": "python",
   "name": "python3"
  },
  "language_info": {
   "codemirror_mode": {
    "name": "ipython",
    "version": 3
   },
   "file_extension": ".py",
   "mimetype": "text/x-python",
   "name": "python",
   "nbconvert_exporter": "python",
   "pygments_lexer": "ipython3",
   "version": "3.10.11"
  }
 },
 "nbformat": 4,
 "nbformat_minor": 2
}
