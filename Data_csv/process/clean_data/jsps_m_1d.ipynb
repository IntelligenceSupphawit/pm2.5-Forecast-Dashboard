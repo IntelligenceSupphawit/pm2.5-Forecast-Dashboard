{
 "cells": [
  {
   "cell_type": "code",
   "execution_count": 2,
   "metadata": {},
   "outputs": [
    {
     "name": "stdout",
     "output_type": "stream",
     "text": [
      "<class 'pandas.core.frame.DataFrame'>\n",
      "RangeIndex: 7138 entries, 0 to 7137\n",
      "Data columns (total 5 columns):\n",
      " #   Column       Non-Null Count  Dtype  \n",
      "---  ------       --------------  -----  \n",
      " 0   timestamp    7138 non-null   object \n",
      " 1   humidity     6531 non-null   float64\n",
      " 2   pm_2_5       7138 non-null   float64\n",
      " 3   pm_2_5_sp    7074 non-null   float64\n",
      " 4   temperature  6598 non-null   float64\n",
      "dtypes: float64(4), object(1)\n",
      "memory usage: 279.0+ KB\n"
     ]
    },
    {
     "data": {
      "text/plain": [
       "(None,\n",
       "     timestamp   humidity     pm_2_5  pm_2_5_sp  temperature\n",
       " 0  2021-08-15  82.633751  29.242424        NaN    28.392102\n",
       " 1  2021-08-16  87.845353  19.432905        NaN    26.644278\n",
       " 2  2021-08-17  90.980718  13.293243        NaN    26.299335\n",
       " 3  2021-08-18  77.261290  15.163043        NaN    28.296894\n",
       " 4  2021-08-19  78.807031   7.994888        NaN    27.969023)"
      ]
     },
     "execution_count": 2,
     "metadata": {},
     "output_type": "execute_result"
    }
   ],
   "source": [
    "import pandas as pd\n",
    "import numpy as np\n",
    "\n",
    "# Load the new dataset for inspection before training\n",
    "new_file_path = r\"C:\\Users\\snpdp\\pm2.5-Forecast-Dashboard\\Data_csv\\merge_data\\jsps-m-1d.csv\"\n",
    "new_df = pd.read_csv(new_file_path)\n",
    "\n",
    "# Display basic information about the dataset\n",
    "new_df.info(), new_df.head()\n"
   ]
  },
  {
   "cell_type": "code",
   "execution_count": 11,
   "metadata": {},
   "outputs": [
    {
     "name": "stdout",
     "output_type": "stream",
     "text": [
      "✅ Data Cleaning Completed. Cleaned file saved at: C:\\Users\\snpdp\\pm2.5-Forecast-Dashboard\\Data_csv\\merge_data\\cleaned_jsps-m-1d.csv\n",
      "   timestamp   humidity     pm_2_5  pm_2_5_sp  temperature\n",
      "0 2021-08-15  82.633751  29.242424   1.100546    28.392102\n",
      "1 2021-08-16  87.845353  19.432905   1.100546    26.644278\n",
      "2 2021-08-18  77.261290  15.163043   1.100546    28.296894\n",
      "3 2021-08-19  78.807031   7.994888   1.100546    27.969023\n",
      "4 2021-08-20  81.790799   9.832737   1.100546    27.503250\n"
     ]
    },
    {
     "name": "stderr",
     "output_type": "stream",
     "text": [
      "C:\\Users\\snpdp\\AppData\\Local\\Temp\\ipykernel_1868\\101219567.py:37: FutureWarning: DataFrame.fillna with 'method' is deprecated and will raise in a future version. Use obj.ffill() or obj.bfill() instead.\n",
      "  cleaned_df.fillna(method='ffill', inplace=True)\n",
      "C:\\Users\\snpdp\\AppData\\Local\\Temp\\ipykernel_1868\\101219567.py:38: FutureWarning: DataFrame.fillna with 'method' is deprecated and will raise in a future version. Use obj.ffill() or obj.bfill() instead.\n",
      "  cleaned_df.fillna(method='bfill', inplace=True)\n"
     ]
    }
   ],
   "source": [
    "import pandas as pd\n",
    "\n",
    "# ฟังก์ชันตรวจจับ outliers โดยใช้ IQR method\n",
    "def detect_outliers_iqr(data):\n",
    "    Q1 = data.quantile(0.25)\n",
    "    Q3 = data.quantile(0.75)\n",
    "    IQR = Q3 - Q1\n",
    "    lower_bound = Q1 - 1.5 * IQR\n",
    "    upper_bound = Q3 + 1.5 * IQR\n",
    "    return (data < lower_bound) | (data > upper_bound)\n",
    "\n",
    "# โหลดข้อมูล\n",
    "file_path = r\"C:\\Users\\snpdp\\pm2.5-Forecast-Dashboard\\Data_csv\\merge_data\\jsps-m-1d.csv\"\n",
    "df = pd.read_csv(file_path)\n",
    "\n",
    "# คัดลอก DataFrame สำหรับการทำความสะอาด\n",
    "cleaned_df = df.copy()\n",
    "\n",
    "# ตรวจสอบและลบ Outliers\n",
    "for column in ['pm_2_5', 'humidity', 'temperature', 'pm_2_5_sp']:\n",
    "    if column in cleaned_df.columns:\n",
    "        outliers = detect_outliers_iqr(cleaned_df[column])\n",
    "        cleaned_df = cleaned_df[~outliers]\n",
    "\n",
    "# เติมค่าที่หายไป\n",
    "for col in ['humidity', 'temperature']:\n",
    "    if col in cleaned_df.columns:\n",
    "        cleaned_df[col] = cleaned_df[col].fillna(cleaned_df[col].median())\n",
    "\n",
    "if 'pm_2_5_sp' in cleaned_df.columns:\n",
    "    cleaned_df['pm_2_5_sp'] = cleaned_df['pm_2_5_sp'].interpolate(method='linear')\n",
    "\n",
    "if 'pm_2_5' in cleaned_df.columns:\n",
    "    cleaned_df['pm_2_5'] = cleaned_df['pm_2_5'].fillna(cleaned_df['pm_2_5'].mean())\n",
    "\n",
    "# เติมค่าหายไปจากข้อมูลก่อนหน้า (Forward Fill) และข้อมูลถัดไป (Backward Fill)\n",
    "cleaned_df.fillna(method='ffill', inplace=True)\n",
    "cleaned_df.fillna(method='bfill', inplace=True)\n",
    "\n",
    "# ลบข้อมูลที่ซ้ำกัน\n",
    "cleaned_df.drop_duplicates(inplace=True)\n",
    "\n",
    "# จัดการ timestamp ซ้ำกัน และลบเวลาออก\n",
    "if 'timestamp' in cleaned_df.columns:\n",
    "    cleaned_df['timestamp'] = cleaned_df['timestamp'].astype(str).str.strip()\n",
    "    cleaned_df['timestamp'] = pd.to_datetime(cleaned_df['timestamp'], errors='coerce')\n",
    "\n",
    "    # แปลง timestamp ให้เก็บเฉพาะ \"วัน\" ไม่มีเวลา\n",
    "    cleaned_df['date'] = cleaned_df['timestamp'].dt.date\n",
    "\n",
    "    # รวมข้อมูลที่มีวันเดียวกัน (ใช้ค่าเฉลี่ย)\n",
    "    cleaned_df = cleaned_df.groupby('date').mean().reset_index()\n",
    "\n",
    "    # แปลง 'date' กลับเป็น datetime โดยไม่มีเวลา\n",
    "    cleaned_df['timestamp'] = pd.to_datetime(cleaned_df['date'])\n",
    "\n",
    "    # ลบคอลัมน์ 'date' ที่ใช้ช่วยคำนวณ\n",
    "    cleaned_df.drop(columns=['date'], inplace=True)\n",
    "\n",
    "# บันทึกไฟล์ที่ทำความสะอาดแล้ว\n",
    "cleaned_file_path = r\"C:\\Users\\snpdp\\pm2.5-Forecast-Dashboard\\Data_csv\\merge_data\\cleaned_jsps-m-1d.csv\"\n",
    "cleaned_df.to_csv(cleaned_file_path, index=False)\n",
    "\n",
    "# แสดงผลข้อมูลที่ทำความสะอาดแล้ว\n",
    "print(\"✅ Data Cleaning Completed. Cleaned file saved at:\", cleaned_file_path)\n",
    "print(cleaned_df.head())\n"
   ]
  }
 ],
 "metadata": {
  "kernelspec": {
   "display_name": "venv",
   "language": "python",
   "name": "python3"
  },
  "language_info": {
   "codemirror_mode": {
    "name": "ipython",
    "version": 3
   },
   "file_extension": ".py",
   "mimetype": "text/x-python",
   "name": "python",
   "nbconvert_exporter": "python",
   "pygments_lexer": "ipython3",
   "version": "3.10.11"
  }
 },
 "nbformat": 4,
 "nbformat_minor": 2
}
