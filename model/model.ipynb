{
 "cells": [
  {
   "cell_type": "code",
   "execution_count": 3,
   "metadata": {},
   "outputs": [
    {
     "ename": "ModuleNotFoundError",
     "evalue": "No module named 'pandas'",
     "output_type": "error",
     "traceback": [
      "\u001b[1;31m---------------------------------------------------------------------------\u001b[0m",
      "\u001b[1;31mModuleNotFoundError\u001b[0m                       Traceback (most recent call last)",
      "Cell \u001b[1;32mIn[3], line 1\u001b[0m\n\u001b[1;32m----> 1\u001b[0m \u001b[38;5;28;01mimport\u001b[39;00m\u001b[38;5;250m \u001b[39m\u001b[38;5;21;01mpandas\u001b[39;00m\u001b[38;5;250m \u001b[39m\u001b[38;5;28;01mas\u001b[39;00m\u001b[38;5;250m \u001b[39m\u001b[38;5;21;01mpd\u001b[39;00m\n\u001b[0;32m      2\u001b[0m \u001b[38;5;28;01mimport\u001b[39;00m\u001b[38;5;250m \u001b[39m\u001b[38;5;21;01mglob\u001b[39;00m\n",
      "\u001b[1;31mModuleNotFoundError\u001b[0m: No module named 'pandas'"
     ]
    }
   ],
   "source": [
    "import pandas as pd\n",
    "import glob"
   ]
  },
  {
   "cell_type": "code",
   "execution_count": null,
   "metadata": {},
   "outputs": [],
   "source": [
    "files_1d = glob.glob('model/Data/*.xlsx')  # ค้นหาทุกไฟล์ .xlsx ในโฟลเดอร์ Data\n",
    "\n",
    "# อ่านและรวมข้อมูลชุด 1h\n",
    "df = pd.concat([pd.read_excel(file) for file in files_1d], ignore_index=True)\n",
    "\n",
    "df"
   ]
  },
  {
   "cell_type": "code",
   "execution_count": null,
   "metadata": {},
   "outputs": [],
   "source": [
    "df['timezone'].unique()"
   ]
  },
  {
   "cell_type": "code",
   "execution_count": null,
   "metadata": {},
   "outputs": [],
   "source": [
    "df.info()"
   ]
  },
  {
   "cell_type": "code",
   "execution_count": null,
   "metadata": {},
   "outputs": [],
   "source": [
    "df = df.drop(columns=[\"Unnamed: 0\", \"timezone\", \"pm_10\", \"pm_2_5_sp\"])\n"
   ]
  },
  {
   "cell_type": "code",
   "execution_count": null,
   "metadata": {},
   "outputs": [],
   "source": [
    "df"
   ]
  },
  {
   "cell_type": "code",
   "execution_count": null,
   "metadata": {},
   "outputs": [],
   "source": [
    "df.info()"
   ]
  },
  {
   "cell_type": "code",
   "execution_count": null,
   "metadata": {},
   "outputs": [],
   "source": [
    "# แทนค่า NaN ใน humidity และ temperature ด้วยค่าเฉลี่ยของแต่ละคอลัมน์\n",
    "df[\"humidity\"] = df[\"humidity\"].fillna(df[\"humidity\"].mean())\n",
    "df[\"temperature\"] = df[\"temperature\"].fillna(df[\"temperature\"].mean())\n"
   ]
  },
  {
   "cell_type": "code",
   "execution_count": null,
   "metadata": {},
   "outputs": [],
   "source": [
    "print(df.info())"
   ]
  },
  {
   "cell_type": "code",
   "execution_count": null,
   "metadata": {},
   "outputs": [],
   "source": [
    "import matplotlib.pyplot as plt\n",
    "\n",
    "# ใช้ index เป็นแกน X\n",
    "x = df.index  \n",
    "y = df[\"temperature\"]\n",
    "\n",
    "# วาด scatter plot\n",
    "plt.scatter(x, y, color=\"blue\", alpha=0.5, label=\"Temperature\")\n",
    "plt.xlabel(\"Index\")\n",
    "plt.ylabel(\"Temperature\")\n",
    "plt.title(\"Scatter Plot of Temperature\")\n",
    "plt.legend()\n",
    "plt.show()\n",
    "\n"
   ]
  },
  {
   "cell_type": "code",
   "execution_count": null,
   "metadata": {},
   "outputs": [],
   "source": [
    "# กรองเฉพาะค่าที่ temperature อยู่ในช่วง 10 - 44.6 องศา\n",
    "df_filtered = df[(df[\"temperature\"] >= 10) & (df[\"temperature\"] < 44.6)]\n",
    "\n",
    "# ใช้ index เป็นแกน X\n",
    "x = df_filtered.index  \n",
    "y = df_filtered[\"temperature\"]\n",
    "\n",
    "# วาด scatter plot\n",
    "plt.scatter(x, y, color=\"blue\", alpha=0.5, label=\"temperature\")\n",
    "plt.xlabel(\"Index\")\n",
    "plt.ylabel(\"temperature\")\n",
    "plt.title(\"Scatter Plot of Temperature (Filtered: 10°C - 44.6°C)\")\n",
    "plt.legend()\n",
    "plt.show()\n"
   ]
  },
  {
   "cell_type": "code",
   "execution_count": null,
   "metadata": {},
   "outputs": [],
   "source": [
    "import matplotlib.pyplot as plt\n",
    "\n",
    "# ใช้ index เป็นแกน X\n",
    "x = df.index  \n",
    "y = df[\"humidity\"]\n",
    "\n",
    "# วาด scatter plot      \n",
    "plt.scatter(x, y, color=\"blue\", alpha=0.5, label=\"Humidity\")\n",
    "plt.xlabel(\"Index\")\n",
    "plt.ylabel(\"Humidity\")\n",
    "plt.title(\"Scatter Plot of Humidity\")\n",
    "plt.legend()\n",
    "plt.show()\n",
    "\n"
   ]
  },
  {
   "cell_type": "code",
   "execution_count": null,
   "metadata": {},
   "outputs": [],
   "source": [
    "import matplotlib.pyplot as plt\n",
    "\n",
    "# ใช้ index เป็นแกน X\n",
    "x = df.index  \n",
    "y = df[\"pm_2_5\"]\n",
    "\n",
    "# วาด scatter plot\n",
    "plt.scatter(x, y, color=\"blue\", alpha=0.5, label=\"pm_2_5\")\n",
    "plt.xlabel(\"Index\")\n",
    "plt.ylabel(\"pm_2_5\")\n",
    "plt.title(\"Scatter Plot of pm_2_5\")\n",
    "plt.legend()\n",
    "plt.show()"
   ]
  },
  {
   "cell_type": "code",
   "execution_count": null,
   "metadata": {},
   "outputs": [],
   "source": [
    "import matplotlib.pyplot as plt\n",
    "\n",
    "# กรองเฉพาะค่าที่ pm_2_5 < 176\n",
    "df_filtered = df[df[\"pm_2_5\"] < 176]\n",
    "\n",
    "# ใช้ index เป็นแกน X\n",
    "x = df_filtered.index  \n",
    "y = df_filtered[\"pm_2_5\"]\n",
    "\n",
    "# วาด scatter plot\n",
    "plt.scatter(x, y, color=\"blue\", alpha=0.5, label=\"pm_2_5\")\n",
    "plt.xlabel(\"Index\")\n",
    "plt.ylabel(\"pm_2_5\")\n",
    "plt.title(\"Scatter Plot of pm_2_5 (Filtered)\")\n",
    "plt.legend()\n",
    "plt.show()\n"
   ]
  },
  {
   "cell_type": "code",
   "execution_count": null,
   "metadata": {},
   "outputs": [],
   "source": [
    "df"
   ]
  },
  {
   "cell_type": "code",
   "execution_count": null,
   "metadata": {},
   "outputs": [],
   "source": [
    "import pandas as pd\n",
    "\n",
    "# ตรวจสอบให้แน่ใจว่า timestamp เป็น datetime\n",
    "df[\"timestamp\"] = pd.to_datetime(df[\"timestamp\"])\n",
    "\n",
    "# หาวันที่ล่าสุดในข้อมูล\n",
    "latest_date = df[\"timestamp\"].max()\n",
    "\n",
    "# คำนวณเส้นแบ่ง (7 วันสุดท้ายเป็น test)\n",
    "split_date = latest_date - pd.Timedelta(days=7)\n",
    "\n",
    "# แบ่งข้อมูล\n",
    "df_train = df[df[\"timestamp\"] < split_date]  # ข้อมูลเก่ากว่า 7 วันเป็น Train\n",
    "df_test = df[df[\"timestamp\"] >= split_date]  # 7 วันสุดท้ายเป็น Test\n",
    "\n",
    "# แสดงขนาดของชุดข้อมูล\n",
    "print(f\"Train set: {df_train.shape[0]} rows\")\n",
    "print(f\"Test set: {df_test.shape[0]} rows\")"
   ]
  },
  {
   "cell_type": "code",
   "execution_count": null,
   "metadata": {},
   "outputs": [],
   "source": [
    "from pycaret.regression import *\n",
    "\n",
    "clf = setup(data = df_train, target = 'pm_2_5')"
   ]
  },
  {
   "cell_type": "code",
   "execution_count": null,
   "metadata": {},
   "outputs": [],
   "source": [
    "bast_model = compare_models()"
   ]
  },
  {
   "cell_type": "code",
   "execution_count": null,
   "metadata": {},
   "outputs": [],
   "source": [
    "model = create_model('')  "
   ]
  },
  {
   "cell_type": "code",
   "execution_count": null,
   "metadata": {},
   "outputs": [],
   "source": [
    "# ทดสอบโมเดล\n",
    "evaluate_model(model)"
   ]
  }
 ],
 "metadata": {
  "kernelspec": {
   "display_name": "Python 3",
   "language": "python",
   "name": "python3"
  },
  "language_info": {
   "codemirror_mode": {
    "name": "ipython",
    "version": 3
   },
   "file_extension": ".py",
   "mimetype": "text/x-python",
   "name": "python",
   "nbconvert_exporter": "python",
   "pygments_lexer": "ipython3",
   "version": "3.10.11"
  }
 },
 "nbformat": 4,
 "nbformat_minor": 2
}
